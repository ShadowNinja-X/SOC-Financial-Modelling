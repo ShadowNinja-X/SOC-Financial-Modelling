{
 "cells": [
  {
   "cell_type": "code",
   "execution_count": 2,
   "id": "bf4df1b1-d84b-43f0-b807-66ce47a891ec",
   "metadata": {},
   "outputs": [
    {
     "name": "stdout",
     "output_type": "stream",
     "text": [
      "{'Alpha': 0.002494182244988743, 'Beta': 1.0940495527647822, 'Sharpe Ratio (TATA Motors)': 3.5659797228597405, 'Sharpe Ratio (NIFTY50)': 1.9684722740865797, 'Max Drawdown (TATA Motors)': -0.09511212579573322, 'Max Drawdown (NIFTY50)': -0.06611908147652767}\n"
     ]
    }
   ],
   "source": [
    "import pandas as pd\n",
    "import numpy as np\n",
    "\n",
    "# Load the data\n",
    "nifty_data = pd.read_csv(r\"C:\\Users\\siddh\\Desktop\\NIFTY50.csv\", index_col='Date', parse_dates=True)\n",
    "tatamotors_data = pd.read_csv(r\"C:\\Users\\siddh\\Desktop\\TATAMOTORS.csv\", index_col='Date', parse_dates=True)\n",
    "\n",
    "# Ensure the data is sorted by date\n",
    "nifty_data.sort_index(inplace=True)\n",
    "tatamotors_data.sort_index(inplace=True)\n",
    "\n",
    "# Extract Adjusted Close prices\n",
    "nifty_data = nifty_data['Adj Close']\n",
    "tatamotors_data = tatamotors_data['Adj Close']\n",
    "\n",
    "# Filter the date range\n",
    "start_date = '2023-04-01'\n",
    "end_date = '2024-04-01'\n",
    "nifty_data = nifty_data.loc[start_date:end_date]\n",
    "tatamotors_data = tatamotors_data.loc[start_date:end_date]\n",
    "\n",
    "# Calculate daily returns\n",
    "nifty_returns = nifty_data.pct_change().dropna()\n",
    "tatamotors_returns = tatamotors_data.pct_change().dropna()\n",
    "\n",
    "# Calculate alpha and beta\n",
    "cov_matrix = np.cov(tatamotors_returns, nifty_returns)\n",
    "beta = cov_matrix[0, 1] / cov_matrix[1, 1]\n",
    "alpha = np.mean(tatamotors_returns) - beta * np.mean(nifty_returns)\n",
    "\n",
    "# Calculate Sharpe Ratio\n",
    "risk_free_rate = 7.015 / 100\n",
    "trading_days = 252\n",
    "annual_factor = np.sqrt(trading_days)\n",
    "\n",
    "# Sharpe ratio for TATA Motors\n",
    "tatamotors_excess_returns = tatamotors_returns - risk_free_rate / trading_days\n",
    "sharpe_ratio_tatamotors = np.mean(tatamotors_excess_returns) / np.std(tatamotors_excess_returns) * annual_factor\n",
    "\n",
    "# Sharpe ratio for NIFTY50\n",
    "nifty_excess_returns = nifty_returns - risk_free_rate / trading_days\n",
    "sharpe_ratio_nifty = np.mean(nifty_excess_returns) / np.std(nifty_excess_returns) * annual_factor\n",
    "\n",
    "# Calculate max drawdown for TATA Motors\n",
    "def max_drawdown(returns):\n",
    "    cumulative = (1 + returns).cumprod()\n",
    "    peak = cumulative.cummax()\n",
    "    drawdown = (cumulative - peak) / peak\n",
    "    max_drawdown_value = drawdown.min()\n",
    "    return max_drawdown_value\n",
    "\n",
    "max_drawdown_tatamotors = max_drawdown(tatamotors_returns)\n",
    "max_drawdown_nifty = max_drawdown(nifty_returns)\n",
    "\n",
    "# Output the results\n",
    "results = {\n",
    "    'Alpha': alpha,\n",
    "    'Beta': beta,\n",
    "    'Sharpe Ratio (TATA Motors)': sharpe_ratio_tatamotors,\n",
    "    'Sharpe Ratio (NIFTY50)': sharpe_ratio_nifty,\n",
    "    'Max Drawdown (TATA Motors)': max_drawdown_tatamotors,\n",
    "    'Max Drawdown (NIFTY50)': max_drawdown_nifty\n",
    "}\n",
    "\n",
    "print(results)\n"
   ]
  },
  {
   "cell_type": "code",
   "execution_count": null,
   "id": "d517d503-8ec5-4cfc-8031-d390150b23ab",
   "metadata": {},
   "outputs": [],
   "source": []
  }
 ],
 "metadata": {
  "kernelspec": {
   "display_name": "Python 3 (ipykernel)",
   "language": "python",
   "name": "python3"
  },
  "language_info": {
   "codemirror_mode": {
    "name": "ipython",
    "version": 3
   },
   "file_extension": ".py",
   "mimetype": "text/x-python",
   "name": "python",
   "nbconvert_exporter": "python",
   "pygments_lexer": "ipython3",
   "version": "3.11.7"
  }
 },
 "nbformat": 4,
 "nbformat_minor": 5
}
